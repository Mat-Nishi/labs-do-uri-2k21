{
  "nbformat": 4,
  "nbformat_minor": 5,
  "metadata": {
    "kernelspec": {
      "display_name": "Python 3 (ipykernel)",
      "language": "python",
      "name": "python3"
    },
    "language_info": {
      "codemirror_mode": {
        "name": "ipython",
        "version": 3
      },
      "file_extension": ".py",
      "mimetype": "text/x-python",
      "name": "python",
      "nbconvert_exporter": "python",
      "pygments_lexer": "ipython3",
      "version": "3.9.0"
    },
    "colab": {
      "name": "Lab08-Arquivos-V2.ipynb",
      "provenance": [],
      "collapsed_sections": [],
      "include_colab_link": true
    }
  },
  "cells": [
    {
      "cell_type": "markdown",
      "metadata": {
        "id": "view-in-github",
        "colab_type": "text"
      },
      "source": [
        "<a href=\"https://colab.research.google.com/github/Mat-Nishi/labs-do-uri-2k21-python/blob/main/Lab08_Arquivos_V2.ipynb\" target=\"_parent\"><img src=\"https://colab.research.google.com/assets/colab-badge.svg\" alt=\"Open In Colab\"/></a>"
      ]
    },
    {
      "cell_type": "markdown",
      "metadata": {
        "id": "f443b916"
      },
      "source": [
        "# Instruções\n",
        "\n",
        "- **Crie uma cópia** do notebook.\n",
        "- **Inicialize primeiro** este _notebook_ (clique no círculo preto com a seta branca, logo abaixo).\n",
        "\n",
        "- Escreva o seu código entre as linhas indicada por **# Início do seu código** e **# Fim do seu código** (não as apague).\n",
        "\n",
        "- Use **SHIFT + ENTER** para executar uma célula. O resultado será exibido a seguir.\n",
        "\n",
        "- **Não remova ou altere** as linhas com comandos de validação."
      ],
      "id": "f443b916"
    },
    {
      "cell_type": "code",
      "metadata": {
        "cellView": "form",
        "id": "18372900"
      },
      "source": [
        "#@title\n",
        "# Não se preocupe com este código. E nem faça alterações nele, por favor.\n",
        "\n",
        "import builtins\n",
        "import io\n",
        "import os\n",
        "from unittest.mock import patch # needs at least Python 3.3\n",
        "\n",
        "from IPython.core.display import display, HTML\n",
        "\n",
        "# autograding core v0c\n",
        "\n",
        "# ---------------- INTERNAL VARIABLES ----------------\n",
        "\n",
        "_STORE = [] # predefined input lines\n",
        "_INPUT = [] # all read input lines\n",
        "_PRINT = [] # all printed lines\n",
        "\n",
        "# do not delete these globals with _clear()\n",
        "_GUARD = {'builtins', 'io', 'os', 'In', 'Out'}\n",
        "\n",
        "# ---------------- INTERNAL FUNCTIONS ----------------\n",
        "\n",
        "def _clear():\n",
        "    for name in set(globals()) - _GUARD:\n",
        "        if not name.startswith('_') and not callable(globals()[name]):\n",
        "            #builtins.print('will remove', name)\n",
        "            globals().pop(name)\n",
        "\n",
        "def _sprint(*args, end='', **kwargs):\n",
        "    sio = io.StringIO()\n",
        "    builtins.print(*args, **kwargs, end=end, file=sio)\n",
        "    return sio.getvalue()\n",
        "\n",
        "def _compact(s):\n",
        "    return ''.join(s).replace(' ', '').replace('\\t', '')\n",
        "\n",
        "def _feedback(mode, msg):\n",
        "    if 'NBGRADER_EXECUTION' in os.environ:\n",
        "        if mode == 'incorrect':\n",
        "            raise Exception(msg)\n",
        "        elif mode == 'warn':\n",
        "            raise Warning(msg)\n",
        "        return # correct\n",
        "    if mode == 'incorrect':\n",
        "        color = 'Tomato'\n",
        "    elif mode == 'warn':\n",
        "        color = 'Gold'\n",
        "    else: # correct\n",
        "        color = 'LawnGreen'\n",
        "    display(HTML(f'<p style=\"background-color: {color}; padding: 8px 8px 8px 8px;\">{msg}</p>'))\n",
        "\n",
        "# ---------------- OVERLOADED FUNCTIONS ----------------\n",
        "\n",
        "def input(msg=''):\n",
        "    if _STORE:\n",
        "        s = _STORE.pop(0)\n",
        "        builtins.print(msg, s, sep='')\n",
        "    else:\n",
        "        s = builtins.input(msg)\n",
        "    _INPUT.append(s)\n",
        "    return s\n",
        "    \n",
        "def print(*args, **kwargs):\n",
        "    s = _sprint(*args, **kwargs)\n",
        "    builtins.print(s)\n",
        "    _PRINT.extend(s.split('\\n'))\n",
        "\n",
        "# ---------------- BLOCK CHECKING FUNCTIONS ----------------\n",
        "\n",
        "def store_input(*args):\n",
        "    global _STORE, _INPUT, _PRINT\n",
        "    _STORE = list(args)\n",
        "    _INPUT = []\n",
        "    _PRINT = []\n",
        "\n",
        "def check_print(*args):\n",
        "    global _STORE, _INPUT, _PRINT\n",
        "    if _STORE:\n",
        "        _feedback('warn', 'Aviso: nem todas as entradas foram usadas.')\n",
        "    if repr(_PRINT) == repr(list(args)):\n",
        "        _feedback('correct', 'Correto!')\n",
        "    elif len(_PRINT) != len(args):\n",
        "        _feedback('warn', 'Aviso: o número de linhas impressas está errado.')\n",
        "    elif _compact(_PRINT) == _compact(args):\n",
        "        _feedback('warn', 'Aviso: espaçamento diferente nas linhas impressas.')\n",
        "    else:\n",
        "        _feedback('incorrect', 'Impressão incorreta.')\n",
        "    _STORE = []\n",
        "    _INPUT = []\n",
        "    _PRINT = []\n",
        "    _clear()\n",
        "\n",
        "def rerun_block():\n",
        "    code = 'Início do seu código'\n",
        "    mark = 'BEGIN ' + 'SOLUTION'\n",
        "    src = ''\n",
        "    for src in reversed(In[-10:]): # search only in the last few inputs\n",
        "        if code in src or mark in src:\n",
        "            break\n",
        "    if code not in src and mark not in src:\n",
        "        _feedback('incorrect', f'Não encontrado bloco com {code} ou {mark}')\n",
        "        return False\n",
        "    with patch('__main__.store_input') as mock_test1:\n",
        "        with patch('__main__.check_print') as mock_test2:\n",
        "            exec(src)\n",
        "    return True\n",
        "\n",
        "def check_block(inp, out):\n",
        "    store_input(*inp)\n",
        "    if rerun_block():\n",
        "        check_print(*out)\n",
        "    else:\n",
        "        _clear()\n",
        "\n",
        "# ---------------- FUNCTION CHECKING FUNCTION ----------------\n",
        "\n",
        "def check_function(name, args, ret):\n",
        "    if name not in globals() or not callable(globals()[name]):\n",
        "        _feedback('warn', f'Aviso: a função \"{name}\" precisa ser declarada.')\n",
        "        return\n",
        "    func = globals()[name]\n",
        "    if len(args) != func.__code__.co_argcount:\n",
        "        _feedback('warn', f'Aviso: a função \"{name}\" está definida com o número de parâmetros errado.')\n",
        "        return\n",
        "    r = func(*args)\n",
        "    if repr(r) == repr(ret):\n",
        "        _feedback('correct', 'Correto!')\n",
        "    elif type(r) != type(ret):\n",
        "        _feedback('warn', 'Aviso: tipo do retorno errado.')\n",
        "    else:\n",
        "        _feedback('incorrect', 'Retorno de função incorreto.')\n",
        "    _clear()\n",
        "\n",
        "# ---------------- FILE CHECKING FUNCTION ----------------\n",
        "\n",
        "def check_file(filename, lines):\n",
        "    try:\n",
        "        file = open(filename, 'r')\n",
        "    except:\n",
        "        _feedback('warn', f'Aviso: o arquivo \"{filename}\" precisa existir.')\n",
        "        return\n",
        "    read = file.read().splitlines()\n",
        "    file.close()\n",
        "    if repr(read) == repr(lines):\n",
        "        _feedback('correct', 'Correto!')\n",
        "    elif len(read) != len(lines):\n",
        "        _feedback('warn', 'Aviso: o número de linhas do arquivo está errado.')\n",
        "    elif _compact(read) == _compact(lines):\n",
        "        _feedback('warn', 'Aviso: espaçamento diferente nas linhas do arquivo.')\n",
        "    else:\n",
        "        _feedback('incorrect', 'Arquivo com conteúdo incorreto.')\n",
        "    _clear()"
      ],
      "id": "18372900",
      "execution_count": null,
      "outputs": []
    },
    {
      "cell_type": "markdown",
      "metadata": {
        "id": "e7fcc2db"
      },
      "source": [
        "# Questão 1\n",
        "\n",
        "Faça um programa que escreve em um arquivo texto chamado “numeros.txt” 10 números inteiros informados pelo usuário. Cada número deve ficar em uma linha. Ex.:\n",
        "\n",
        "```\n",
        "231\n",
        "909\n",
        "13\n",
        "...\n",
        "```"
      ],
      "id": "e7fcc2db"
    },
    {
      "cell_type": "code",
      "metadata": {
        "deletable": false,
        "nbgrader": {
          "cell_type": "code",
          "checksum": "e3516b2c4814bebd503ea5ac29138942",
          "grade": false,
          "grade_id": "cell-6cdcd3579a3014cb",
          "locked": false,
          "schema_version": 3,
          "solution": true,
          "task": false
        },
        "id": "28c25a49",
        "colab": {
          "base_uri": "https://localhost:8080/"
        },
        "outputId": "cdc8d932-58b8-4809-efb4-9b878fc77b92"
      },
      "source": [
        "# Altere o código abaixo apenas na parte indicada\n",
        "store_input('231','909','13','12','43','111','56','234','544','72')\n",
        "\n",
        "# Início do seu código\n",
        "with open(\"numeros.txt\", 'w') as arq:\n",
        "  for i in range(10):\n",
        "    arq.write(input())\n",
        "    arq.write('\\n')\n",
        "# Fim do seu código\n"
      ],
      "id": "28c25a49",
      "execution_count": null,
      "outputs": [
        {
          "output_type": "stream",
          "name": "stdout",
          "text": [
            "231\n",
            "909\n",
            "13\n",
            "12\n",
            "43\n",
            "111\n",
            "56\n",
            "234\n",
            "544\n",
            "72\n"
          ]
        }
      ]
    },
    {
      "cell_type": "code",
      "metadata": {
        "deletable": false,
        "editable": false,
        "nbgrader": {
          "cell_type": "code",
          "checksum": "f3125335ccd901737b5d7cee905c2729",
          "grade": true,
          "grade_id": "cell-d26a1f24130e35b8",
          "locked": true,
          "points": 1,
          "schema_version": 3,
          "solution": false,
          "task": false
        },
        "id": "6bd1bd7a",
        "colab": {
          "base_uri": "https://localhost:8080/",
          "height": 271
        },
        "outputId": "7bf1d01f-5692-4d46-b65e-597930236edd"
      },
      "source": [
        "# Testes - Não apague/altere\n",
        "check_block(['231','909','13','12','43','111','56','234','544','72'],[])\n",
        "check_file('numeros.txt', ['231','909','13','12','43','111','56','234','544','72'])\n",
        "#check_block_file(['231','909','13','12','43','111','56','234','544','72'],'numeros.txt', ['231','909','13','12','43','111','56','234','544','72'])"
      ],
      "id": "6bd1bd7a",
      "execution_count": null,
      "outputs": [
        {
          "output_type": "stream",
          "name": "stdout",
          "text": [
            "231\n",
            "909\n",
            "13\n",
            "12\n",
            "43\n",
            "111\n",
            "56\n",
            "234\n",
            "544\n",
            "72\n"
          ]
        },
        {
          "output_type": "display_data",
          "data": {
            "text/html": [
              "<p style=\"background-color: LawnGreen; padding: 8px 8px 8px 8px;\">Correto!</p>"
            ],
            "text/plain": [
              "<IPython.core.display.HTML object>"
            ]
          },
          "metadata": {}
        },
        {
          "output_type": "display_data",
          "data": {
            "text/html": [
              "<p style=\"background-color: LawnGreen; padding: 8px 8px 8px 8px;\">Correto!</p>"
            ],
            "text/plain": [
              "<IPython.core.display.HTML object>"
            ]
          },
          "metadata": {}
        }
      ]
    },
    {
      "cell_type": "code",
      "metadata": {
        "deletable": false,
        "editable": false,
        "nbgrader": {
          "cell_type": "code",
          "checksum": "d5c06a87c4e555e6cdfe609a9c18be21",
          "grade": true,
          "grade_id": "cell-1fc92fe3eb262eba",
          "locked": true,
          "points": 1,
          "schema_version": 3,
          "solution": false,
          "task": false
        },
        "id": "f33ff202"
      },
      "source": [
        "# Mais Testes - Não apague/altere"
      ],
      "id": "f33ff202",
      "execution_count": null,
      "outputs": []
    },
    {
      "cell_type": "markdown",
      "metadata": {
        "id": "70642401"
      },
      "source": [
        "# Questão 02\n",
        "\n",
        "Faça um programa que leia um arquivo texto e mostre quantos caracteres (incluindo espaços, pontos, \\n, etc), palavras e linhas tem no arquivo. Considere que toda a palavra é separada por um espaço ou uma quebra de linha (\\n) e não existem espaços no início da linha. O número de linhas é o número de quebras de linha (\\n). A saída do programa são três números separados por espaço: número de caracteres, número de palavras e número de linhas. Ex.:\n",
        "\n",
        "entrada.txt\n",
        "```\n",
        "aa bbvv ccc\n",
        "ccdd ee\n",
        "\n",
        "```\n",
        "\n",
        "Saída:\n",
        "```\n",
        "20 5 2\n",
        "```\n",
        "\n"
      ],
      "id": "70642401"
    },
    {
      "cell_type": "code",
      "metadata": {
        "deletable": false,
        "nbgrader": {
          "cell_type": "code",
          "checksum": "ff51e8370a54dde7a58acc26542bea79",
          "grade": false,
          "grade_id": "cell-f183a7b42b2daf0b",
          "locked": false,
          "schema_version": 3,
          "solution": true,
          "task": false
        },
        "id": "9f4bc729",
        "colab": {
          "base_uri": "https://localhost:8080/"
        },
        "outputId": "e4bda2e9-e932-4b6f-857e-db957705e21a"
      },
      "source": [
        "# Altere o código abaixo apenas na parte indicada\n",
        "\n",
        "# Cria o arquivo de testes\n",
        "f = open('teste01Q02.txt','w')\n",
        "f.write('aa bbvv ccc\\nccdd ee\\n')\n",
        "f.close()\n",
        "# Define a entrada padrão\n",
        "store_input('teste01Q02.txt')\n",
        "\n",
        "# Início do seu código\n",
        "with open(input(), 'r') as arq:\n",
        "  texto = arq.read()\n",
        "  print(len(texto), len(texto.split()), len(texto.split('\\n'))-1)\n",
        "\n",
        "# Fim do seu código\n",
        "\n"
      ],
      "id": "9f4bc729",
      "execution_count": null,
      "outputs": [
        {
          "output_type": "stream",
          "name": "stdout",
          "text": [
            "teste01Q02.txt\n",
            "20 5 2\n"
          ]
        }
      ]
    },
    {
      "cell_type": "code",
      "metadata": {
        "deletable": false,
        "editable": false,
        "nbgrader": {
          "cell_type": "code",
          "checksum": "c8550168de83e67cdb5df1a7d906648f",
          "grade": true,
          "grade_id": "cell-28ae6131cbaad372",
          "locked": true,
          "points": 1,
          "schema_version": 3,
          "solution": false,
          "task": false
        },
        "id": "1559d5e0",
        "colab": {
          "base_uri": "https://localhost:8080/",
          "height": 96
        },
        "outputId": "3b0b8edc-9148-4468-a422-bcb36e038b3c"
      },
      "source": [
        "# Testes - Não apague/altere\n",
        "check_block(['teste01Q02.txt'],['20 5 2'])"
      ],
      "id": "1559d5e0",
      "execution_count": null,
      "outputs": [
        {
          "output_type": "stream",
          "name": "stdout",
          "text": [
            "teste01Q02.txt\n",
            "20 5 2\n"
          ]
        },
        {
          "output_type": "display_data",
          "data": {
            "text/html": [
              "<p style=\"background-color: LawnGreen; padding: 8px 8px 8px 8px;\">Correto!</p>"
            ],
            "text/plain": [
              "<IPython.core.display.HTML object>"
            ]
          },
          "metadata": {}
        }
      ]
    },
    {
      "cell_type": "code",
      "metadata": {
        "deletable": false,
        "editable": false,
        "nbgrader": {
          "cell_type": "code",
          "checksum": "d5a90debe6e39382b4369ba74cd22a4b",
          "grade": true,
          "grade_id": "cell-674ef39094540bda",
          "locked": true,
          "points": 1,
          "schema_version": 3,
          "solution": false,
          "task": false
        },
        "id": "f4b25e30"
      },
      "source": [
        "# Mais Testes - Não apague/altere"
      ],
      "id": "f4b25e30",
      "execution_count": null,
      "outputs": []
    },
    {
      "cell_type": "markdown",
      "metadata": {
        "id": "d5ddffd7"
      },
      "source": [
        "# Questão 03\n",
        "\n",
        "Faça um programa que cria um arquivo chamdo 'produtos.csv' para auxiliar uma ferragem. A ferragem conta com 4 produtos: \n",
        "\n",
        "- Parafuso (código: 44, preço: R\\$ 2.10)\n",
        "- Prego (código: 11, preço: R\\$ 0.90)\n",
        "- Porca (código: 22, preço: R\\$ 0.50)\n",
        "- Bucha (código: 33, preço: R\\$ 0.10)\n",
        "\n",
        "\n",
        "Seu programa deve ler a quantidade de cada produto (parafuso, prego, porca e bucha) e criar um arquivo CSV (Comma Separated Values) com os dados dos produtos. As colunas do arquivo CSV são: Código, Descrição, Quantidade, Preço e Total. Seu arquivo deve ficar parecido com o arquivo abaixo. Note que Quantidade é um valor informado pelo usuário. Atenção às letras maiúsculas e acentos e o formato de número de ponto flutuante igual a duas casas depois da vírgula.\n",
        "\n",
        "```\n",
        "Código,Descrição,Quantidade,Preço,Total\n",
        "44,Parafuso,10,2.10,21.00\n",
        "11,Prego,100,0.90,90.00\n",
        "22,Porca,3,0.50,1.50\n",
        "33,Bucha,20,0.10,2.00\n",
        "```\n"
      ],
      "id": "d5ddffd7"
    },
    {
      "cell_type": "code",
      "metadata": {
        "deletable": false,
        "nbgrader": {
          "cell_type": "code",
          "checksum": "b601070b3f4c5e335b05307fd8d0ccc3",
          "grade": false,
          "grade_id": "cell-12b47734794030b4",
          "locked": false,
          "schema_version": 3,
          "solution": true,
          "task": false
        },
        "id": "2386ca83",
        "colab": {
          "base_uri": "https://localhost:8080/"
        },
        "outputId": "da039445-696d-4aa6-9485-47e7b6dff782"
      },
      "source": [
        "# Altere o código abaixo apenas na parte indicada\n",
        "store_input('10','100','3','20')\n",
        "\n",
        "# Início do seu código\n",
        "import csv\n",
        "produtos = {0: [44, 'Parafuso', '', '2.10', ''],\n",
        "            1: [11, 'Prego', '', '0.90', ''],\n",
        "            2: [22, 'Porca', '', '0.50', ''],\n",
        "            3: [33, 'Bucha', '', '0.10', '']\n",
        "            }\n",
        "with open(\"produtos.csv\", 'w', newline=\"\") as arq:\n",
        "    writer = csv.writer(arq)\n",
        "    writer.writerow(('Código', 'Descrição', 'Quantidade', 'Preço', 'Total'))\n",
        "    for i in range(4):\n",
        "        qtd = int(input())\n",
        "        produtos[i][2] = qtd\n",
        "        produtos[i][4] = qtd*float(produtos[i][3])\n",
        "        linha = (produtos[i][0], produtos[i][1], produtos[i]\n",
        "                 [2], produtos[i][3], f'{produtos[i][4]:.2f}')\n",
        "        writer.writerow(linha)\n",
        "\n",
        "\n",
        "# Fim do seu código\n"
      ],
      "id": "2386ca83",
      "execution_count": null,
      "outputs": [
        {
          "output_type": "stream",
          "name": "stdout",
          "text": [
            "10\n",
            "100\n",
            "3\n",
            "20\n"
          ]
        }
      ]
    },
    {
      "cell_type": "code",
      "metadata": {
        "deletable": false,
        "editable": false,
        "nbgrader": {
          "cell_type": "code",
          "checksum": "175aa387e130fcfbe9960984303df6e6",
          "grade": true,
          "grade_id": "cell-984a216e9ac8178f",
          "locked": true,
          "points": 1,
          "schema_version": 3,
          "solution": false,
          "task": false
        },
        "id": "69872f6a",
        "colab": {
          "base_uri": "https://localhost:8080/",
          "height": 169
        },
        "outputId": "d2919034-4a72-4e2a-9929-ed8785fd2767"
      },
      "source": [
        "# Testes - Não apague/altere\n",
        "check_block(['10','100','3','20'],[])\n",
        "check_file('produtos.csv',\n",
        "          ['Código,Descrição,Quantidade,Preço,Total',\n",
        "           '44,Parafuso,10,2.10,21.00',\n",
        "           '11,Prego,100,0.90,90.00',\n",
        "           '22,Porca,3,0.50,1.50',\n",
        "           '33,Bucha,20,0.10,2.00'])"
      ],
      "id": "69872f6a",
      "execution_count": null,
      "outputs": [
        {
          "output_type": "stream",
          "name": "stdout",
          "text": [
            "10\n",
            "100\n",
            "3\n",
            "20\n"
          ]
        },
        {
          "output_type": "display_data",
          "data": {
            "text/html": [
              "<p style=\"background-color: LawnGreen; padding: 8px 8px 8px 8px;\">Correto!</p>"
            ],
            "text/plain": [
              "<IPython.core.display.HTML object>"
            ]
          },
          "metadata": {}
        },
        {
          "output_type": "display_data",
          "data": {
            "text/html": [
              "<p style=\"background-color: LawnGreen; padding: 8px 8px 8px 8px;\">Correto!</p>"
            ],
            "text/plain": [
              "<IPython.core.display.HTML object>"
            ]
          },
          "metadata": {}
        }
      ]
    },
    {
      "cell_type": "code",
      "metadata": {
        "deletable": false,
        "editable": false,
        "nbgrader": {
          "cell_type": "code",
          "checksum": "bbf583b0336605eea3dab2e853a80193",
          "grade": true,
          "grade_id": "cell-243f0286c5a7ddfa",
          "locked": true,
          "points": 1,
          "schema_version": 3,
          "solution": false,
          "task": false
        },
        "id": "ef384678"
      },
      "source": [
        "# Mais Testes - Não apague/altere\n",
        "\n"
      ],
      "id": "ef384678",
      "execution_count": null,
      "outputs": []
    },
    {
      "cell_type": "markdown",
      "metadata": {
        "id": "f486260e"
      },
      "source": [
        "# Questão 4\n",
        "\n",
        "Criar uma função chamada toMaiusculo(arquivo) que recebe o nome de um arquivo texto e cria um novo arquivo que com todo o conteúdo do arquivo original transformando todas as letras minúsculuas para maiúsculas. O nome do novo arquivo deve ser igual ao original mais a extensão \".mais\" no final. Considere que o arquivo passado para a função sempre existe. Ex.:\n",
        "\n",
        "entrada.txt\n",
        "```\n",
        "AlGOritMOS e\n",
        "Estruras de \n",
        "DAdos\n",
        "c3\n",
        "furg\n",
        "```\n",
        "A saída deve ser o arquivo: \"entrada.txt.mais\"\n",
        "```\n",
        "ALGORITMOS E\n",
        "ESTRUTURAS DE\n",
        "DADOS\n",
        "C3\n",
        "FURG\n",
        "```"
      ],
      "id": "f486260e"
    },
    {
      "cell_type": "code",
      "metadata": {
        "deletable": false,
        "nbgrader": {
          "cell_type": "code",
          "checksum": "f5d93ae4bce551a69eba20f1aaf784ff",
          "grade": false,
          "grade_id": "cell-f3f4304faddb3c15",
          "locked": false,
          "schema_version": 3,
          "solution": true,
          "task": false
        },
        "id": "ac8df4cf",
        "colab": {
          "base_uri": "https://localhost:8080/"
        },
        "outputId": "5a6d7738-4442-4d1f-83d4-4706ce0c6817"
      },
      "source": [
        "# Altere o código abaixo apenas na parte indicada\n",
        "# Cria arquivo de testes\n",
        "f=open(\"teste01Q04.txt\",\"w\")\n",
        "f.write(\"AlGOritMOS e\\nEstruturas de\\nDAdos\\nc3\\nfurg\\n\")\n",
        "f.close()\n",
        "# Define entrada padrão\n",
        "store_input('teste01Q04.txt')\n",
        "\n",
        "def toMaiusculo(nomeArquivo):\n",
        "    novoNome = nomeArquivo+\".mais\"\n",
        "    # Início do seu código\n",
        "    with open(nomeArquivo, \"r\") as arq:\n",
        "      texto = arq.read()\n",
        "    with open(novoNome, \"w\") as arq:\n",
        "      arq.write(texto.upper())\n",
        "\n",
        "    # Fim do seu código\n",
        "\n",
        "nome=input(\"Nome do arquivo para transformar para maiúsculo: \")\n",
        "toMaiusculo(nome)\n",
        "\n",
        "    "
      ],
      "id": "ac8df4cf",
      "execution_count": null,
      "outputs": [
        {
          "output_type": "stream",
          "name": "stdout",
          "text": [
            "Nome do arquivo para transformar para maiúsculo: teste01Q04.txt\n"
          ]
        }
      ]
    },
    {
      "cell_type": "code",
      "metadata": {
        "deletable": false,
        "editable": false,
        "nbgrader": {
          "cell_type": "code",
          "checksum": "a24580577c9dc0e2da51400e9445d93b",
          "grade": true,
          "grade_id": "cell-475466eea694bd31",
          "locked": true,
          "points": 1,
          "schema_version": 3,
          "solution": false,
          "task": false
        },
        "id": "6d719f1a",
        "colab": {
          "base_uri": "https://localhost:8080/",
          "height": 118
        },
        "outputId": "b97b8d3a-d572-44a3-e88e-5395f151483a"
      },
      "source": [
        "# Testes - Não apague/altere\n",
        "check_block(['teste01Q04.txt'],[])\n",
        "check_file('teste01Q04.txt.mais', ['ALGORITMOS E','ESTRUTURAS DE','DADOS','C3','FURG'])\n",
        "\n",
        "\n"
      ],
      "id": "6d719f1a",
      "execution_count": null,
      "outputs": [
        {
          "output_type": "stream",
          "name": "stdout",
          "text": [
            "Nome do arquivo para transformar para maiúsculo: teste01Q04.txt\n"
          ]
        },
        {
          "output_type": "display_data",
          "data": {
            "text/html": [
              "<p style=\"background-color: LawnGreen; padding: 8px 8px 8px 8px;\">Correto!</p>"
            ],
            "text/plain": [
              "<IPython.core.display.HTML object>"
            ]
          },
          "metadata": {}
        },
        {
          "output_type": "display_data",
          "data": {
            "text/html": [
              "<p style=\"background-color: LawnGreen; padding: 8px 8px 8px 8px;\">Correto!</p>"
            ],
            "text/plain": [
              "<IPython.core.display.HTML object>"
            ]
          },
          "metadata": {}
        }
      ]
    },
    {
      "cell_type": "code",
      "metadata": {
        "deletable": false,
        "editable": false,
        "nbgrader": {
          "cell_type": "code",
          "checksum": "7efdf7ed1d8868b6d70acdc4fa092fcc",
          "grade": true,
          "grade_id": "cell-c24dc2408b44cca4",
          "locked": true,
          "points": 1,
          "schema_version": 3,
          "solution": false,
          "task": false
        },
        "id": "9b6c8daf"
      },
      "source": [
        "# Mais Testes - Não apague/altere\n",
        "\n",
        "\n",
        "\n"
      ],
      "id": "9b6c8daf",
      "execution_count": null,
      "outputs": []
    },
    {
      "cell_type": "markdown",
      "metadata": {
        "id": "d4267e35"
      },
      "source": [
        "# Questão 05\n",
        "\n",
        "Faça um programa que leia o nome de um arquivo que contém N números inteiros positivos maiores que zero, um em cada linha (conforme exemplo abaixo). Separe os números pares dos números ímpares. Crie um arquivo para armazenar apenas os números pares chamdado \"pares.txt\" e o outro para armazenar apenas os números ímpares chamado \"impares.txt\"\n",
        "```\n",
        "32\n",
        "43\n",
        "12\n",
        "3\n",
        "453\n",
        "3\n",
        "124\n",
        "54\n",
        "1\n",
        "35\n",
        "65\n",
        "...\n",
        "```\n"
      ],
      "id": "d4267e35"
    },
    {
      "cell_type": "code",
      "metadata": {
        "deletable": false,
        "nbgrader": {
          "cell_type": "code",
          "checksum": "f610c53e1834c4d61ffb834b967f9731",
          "grade": false,
          "grade_id": "cell-bdd1a079c6299727",
          "locked": false,
          "schema_version": 3,
          "solution": true,
          "task": false
        },
        "id": "a18b6e3f",
        "colab": {
          "base_uri": "https://localhost:8080/"
        },
        "outputId": "f87d9eae-6530-450c-fc73-f7ad0440fb2c"
      },
      "source": [
        "# Altere o código abaixo apenas na parte indicada\n",
        "# Cria arquivo de teste\n",
        "f=open(\"teste03.txt\",\"w\")\n",
        "numeros=\"32\\n42\\n101\\n31\\n102\\n1\\n1462\\n99\\n10020\\n3642\\n\"\n",
        "f.write(numeros)\n",
        "f.close()\n",
        "# Define a entrada padrão\n",
        "store_input('teste03.txt')\n",
        "\n",
        "# Início do seu código\n",
        "with open(input(), 'r') as arq:\n",
        "    vals = arq.read().split('\\n')\n",
        "    vals.pop(-1)\n",
        "    impares = [int(i) for i in vals if int(i) % 2]\n",
        "    pares = [int(i) for i in vals if not int(i) % 2]\n",
        "\n",
        "with open('par.txt', 'w') as arq:\n",
        "    for val in pares:\n",
        "        arq.write(str(val))\n",
        "        arq.write('\\n')\n",
        "\n",
        "with open('impar.txt', 'w') as arq:\n",
        "    for val in impares:\n",
        "        arq.write(str(val))\n",
        "        arq.write('\\n')\n",
        "\n",
        "# Fim do seu código\n",
        "\n"
      ],
      "id": "a18b6e3f",
      "execution_count": null,
      "outputs": [
        {
          "output_type": "stream",
          "name": "stdout",
          "text": [
            "teste03.txt\n"
          ]
        }
      ]
    },
    {
      "cell_type": "code",
      "metadata": {
        "deletable": false,
        "editable": false,
        "nbgrader": {
          "cell_type": "code",
          "checksum": "ceebc22f7abb77b24905665e87743ef1",
          "grade": true,
          "grade_id": "cell-ed5248de5a05a5d5",
          "locked": true,
          "points": 1,
          "schema_version": 3,
          "solution": false,
          "task": false
        },
        "id": "280d36c6",
        "colab": {
          "base_uri": "https://localhost:8080/",
          "height": 157
        },
        "outputId": "c1718f5c-7864-440f-cfc7-8fa93518c072"
      },
      "source": [
        "# Testes - Não apague/altere\n",
        "check_block(['teste03.txt'],[])\n",
        "check_file('par.txt',['32','42','102','1462','10020','3642'])\n",
        "check_file('impar.txt',['101','31','1','99'])"
      ],
      "id": "280d36c6",
      "execution_count": null,
      "outputs": [
        {
          "output_type": "stream",
          "name": "stdout",
          "text": [
            "teste03.txt\n"
          ]
        },
        {
          "output_type": "display_data",
          "data": {
            "text/html": [
              "<p style=\"background-color: LawnGreen; padding: 8px 8px 8px 8px;\">Correto!</p>"
            ],
            "text/plain": [
              "<IPython.core.display.HTML object>"
            ]
          },
          "metadata": {}
        },
        {
          "output_type": "display_data",
          "data": {
            "text/html": [
              "<p style=\"background-color: LawnGreen; padding: 8px 8px 8px 8px;\">Correto!</p>"
            ],
            "text/plain": [
              "<IPython.core.display.HTML object>"
            ]
          },
          "metadata": {}
        },
        {
          "output_type": "display_data",
          "data": {
            "text/html": [
              "<p style=\"background-color: LawnGreen; padding: 8px 8px 8px 8px;\">Correto!</p>"
            ],
            "text/plain": [
              "<IPython.core.display.HTML object>"
            ]
          },
          "metadata": {}
        }
      ]
    },
    {
      "cell_type": "code",
      "metadata": {
        "deletable": false,
        "editable": false,
        "nbgrader": {
          "cell_type": "code",
          "checksum": "6856dd26e27eb3bbf9bb4c8c23ab45f0",
          "grade": true,
          "grade_id": "cell-635d644ffa772156",
          "locked": true,
          "points": 1,
          "schema_version": 3,
          "solution": false,
          "task": false
        },
        "id": "04084273"
      },
      "source": [
        "# Mais Testes - Não apague/altere"
      ],
      "id": "04084273",
      "execution_count": null,
      "outputs": []
    },
    {
      "cell_type": "code",
      "metadata": {
        "id": "4c0c1350"
      },
      "source": [
        ""
      ],
      "id": "4c0c1350",
      "execution_count": null,
      "outputs": []
    },
    {
      "cell_type": "code",
      "metadata": {
        "id": "1fb5f890"
      },
      "source": [
        ""
      ],
      "id": "1fb5f890",
      "execution_count": null,
      "outputs": []
    }
  ]
}